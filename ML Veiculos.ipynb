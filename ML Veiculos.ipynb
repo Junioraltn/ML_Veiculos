{
 "cells": [
  {
   "cell_type": "code",
   "execution_count": 1,
   "metadata": {
    "id": "h_uPrULL-vTI"
   },
   "outputs": [
    {
     "name": "stdout",
     "output_type": "stream",
     "text": [
      "versão da linguagem python usada neste Jupyter Notbook 3.11.9\n"
     ]
    }
   ],
   "source": [
    "#Versão da linguagem Python\n",
    "from platform import python_version\n",
    "print(\"versão da linguagem python usada neste Jupyter Notbook\", python_version())"
   ]
  },
  {
   "cell_type": "markdown",
   "metadata": {},
   "source": [
    "# Preparativos"
   ]
  },
  {
   "cell_type": "code",
   "execution_count": 2,
   "metadata": {
    "colab": {
     "base_uri": "https://localhost:8080/",
     "height": 349
    },
    "executionInfo": {
     "elapsed": 345,
     "status": "error",
     "timestamp": 1730309200128,
     "user": {
      "displayName": "Ailton Júnior",
      "userId": "09535766044299314900"
     },
     "user_tz": 180
    },
    "id": "HC7OOIxtBQnq",
    "outputId": "9457b214-db48-446c-9158-18afdd0be191"
   },
   "outputs": [],
   "source": [
    "#Importar a findspark\n",
    "import findspark"
   ]
  },
  {
   "cell_type": "code",
   "execution_count": 3,
   "metadata": {},
   "outputs": [
    {
     "data": {
      "text/plain": [
       "'\\nO findspark ajuda a localizar o diretório do Spark e adicioná-lo ao caminho do sistema, permitindo que seja usado o PySpark sem precisar configurar manualmente as variáveis de ambiente.\\nEla é especialmente útil quando o PySpark não está instalado no mesmo diretório que o Python ou quando está sendo usando em um ambiente virtual.\\n'"
      ]
     },
     "execution_count": 3,
     "metadata": {},
     "output_type": "execute_result"
    }
   ],
   "source": [
    "#Inicializar findspark\n",
    "findspark.init()\n",
    "'''\n",
    "O findspark ajuda a localizar o diretório do Spark e adicioná-lo ao caminho do sistema, permitindo que seja usado o PySpark sem precisar configurar manualmente as variáveis de ambiente.\n",
    "Ela é especialmente útil quando o PySpark não está instalado no mesmo diretório que o Python ou quando está sendo usando em um ambiente virtual.\n",
    "'''"
   ]
  },
  {
   "cell_type": "code",
   "execution_count": 4,
   "metadata": {},
   "outputs": [],
   "source": [
    "#Importar SparkSession\n",
    "from pyspark.sql import SparkSession as Ss"
   ]
  },
  {
   "cell_type": "code",
   "execution_count": 5,
   "metadata": {},
   "outputs": [
    {
     "data": {
      "text/plain": [
       "'\\nA SparkSession gerencia o SparkContext internamente não sendo necessário criar um SparkContext separadamente.\\nmaster(\"local\") - para facilitar depuração e a análise de resultados (O Spark será executado em um único nó).\\n'"
      ]
     },
     "execution_count": 5,
     "metadata": {},
     "output_type": "execute_result"
    }
   ],
   "source": [
    "# Construir Session\n",
    "spark = Ss.builder\\\n",
    "    .master(\"local\")\\\n",
    "    .appName(\"CarrosClustering\")\\\n",
    "    .getOrCreate()\n",
    "'''\n",
    "A SparkSession gerencia o SparkContext internamente não sendo necessário criar um SparkContext separadamente.\n",
    "master(\"local\") - para facilitar depuração e a análise de resultados (O Spark será executado em um único nó).\n",
    "'''"
   ]
  },
  {
   "cell_type": "code",
   "execution_count": 6,
   "metadata": {},
   "outputs": [
    {
     "data": {
      "text/plain": [
       "'\\nA melhor prática é definir o nível de log usando a configuração spark.log.level no arquivo spark-defaults.conf\\nou através do comando spark-submit. Isso garante que o nível de log seja aplicado a todo o aplicativo Spark.\\nNo entanto, para fins de depuração e desenvolvimento, é aceitável definir o nível de log diretamente no código.\\nIsso pode ser útil para evitar mensagens de log excessivas durante o desenvolvimento e depuração.\\nNo entanto, é importante lembrar de reverter essa configuração para um nível de log mais apropriado (como WARN ou INFO) em ambientes de produção.\\n'"
      ]
     },
     "execution_count": 6,
     "metadata": {},
     "output_type": "execute_result"
    }
   ],
   "source": [
    "# Definir o nível de log durante a execução:\n",
    "spark.sparkContext.setLogLevel(\"ERROR\")\n",
    "'''\n",
    "A melhor prática é definir o nível de log usando a configuração spark.log.level no arquivo spark-defaults.conf\n",
    "ou através do comando spark-submit. Isso garante que o nível de log seja aplicado a todo o aplicativo Spark.\n",
    "No entanto, para fins de depuração e desenvolvimento, é aceitável definir o nível de log diretamente no código.\n",
    "Isso pode ser útil para evitar mensagens de log excessivas durante o desenvolvimento e depuração.\n",
    "No entanto, é importante lembrar de reverter essa configuração para um nível de log mais apropriado (como WARN ou INFO) em ambientes de produção.\n",
    "'''"
   ]
  },
  {
   "cell_type": "markdown",
   "metadata": {},
   "source": [
    "# Carregar os dados"
   ]
  },
  {
   "cell_type": "code",
   "execution_count": 7,
   "metadata": {},
   "outputs": [
    {
     "data": {
      "text/plain": [
       "'\\nO PySpark lê o arquivo CSV e cria um DataFrame, que é uma estrutura de dados distribuída semelhante a uma tabela em um banco de dados relacional.\\nO DataFrame é otimizado para processamento distribuído e pode ser manipulado usando operações semelhantes ao SQL.\\nheader = True - indica que a primeira linha do arquivo CSV contém os nomes das colunas\\ninferSchema - será inferido os tipos de dados em cada coluna\\nsep=\";\" - separador do arquivo CSV\\n'"
      ]
     },
     "execution_count": 7,
     "metadata": {},
     "output_type": "execute_result"
    }
   ],
   "source": [
    "# Criar DataFrame a partir de um arquivo CSV\n",
    "carrosDF = spark.read.csv(\"dados/dataset.csv\", header=True, inferSchema=True, sep=\";\")\n",
    "'''\n",
    "O PySpark lê o arquivo CSV e cria um DataFrame, que é uma estrutura de dados distribuída semelhante a uma tabela em um banco de dados relacional.\n",
    "O DataFrame é otimizado para processamento distribuído e pode ser manipulado usando operações semelhantes ao SQL.\n",
    "header = True - indica que a primeira linha do arquivo CSV contém os nomes das colunas\n",
    "inferSchema - será inferido os tipos de dados em cada coluna\n",
    "sep=\";\" - separador do arquivo CSV\n",
    "'''"
   ]
  },
  {
   "cell_type": "code",
   "execution_count": 8,
   "metadata": {},
   "outputs": [
    {
     "name": "stdout",
     "output_type": "stream",
     "text": [
      "root\n",
      " |-- fabricante: string (nullable = true)\n",
      " |-- tipo_combustivel: string (nullable = true)\n",
      " |-- aspirado: string (nullable = true)\n",
      " |-- portas: string (nullable = true)\n",
      " |-- tipo: string (nullable = true)\n",
      " |-- direcao: string (nullable = true)\n",
      " |-- cilindros: string (nullable = true)\n",
      " |-- horsepower: integer (nullable = true)\n",
      " |-- rpm: integer (nullable = true)\n",
      " |-- consumo_cidade: integer (nullable = true)\n",
      " |-- consumo_estrada: integer (nullable = true)\n",
      " |-- preco: integer (nullable = true)\n",
      "\n"
     ]
    },
    {
     "data": {
      "text/plain": [
       "'\\nO método printSchema() exibe a estrutura do DataFrame, incluindo os nomes das colunas e os tipos de dados inferidos.\\nIsso é útil para verificar se os dados foram lidos corretamente e se os tipos de dados estão corretos.\\n'"
      ]
     },
     "execution_count": 8,
     "metadata": {},
     "output_type": "execute_result"
    }
   ],
   "source": [
    "#Visualizar a Estrutura do DataFrame\n",
    "carrosDF.printSchema()\n",
    "'''\n",
    "O método printSchema() exibe a estrutura do DataFrame, incluindo os nomes das colunas e os tipos de dados inferidos.\n",
    "Isso é útil para verificar se os dados foram lidos corretamente e se os tipos de dados estão corretos.\n",
    "'''"
   ]
  },
  {
   "cell_type": "code",
   "execution_count": 9,
   "metadata": {},
   "outputs": [
    {
     "name": "stdout",
     "output_type": "stream",
     "text": [
      "+----------+----------------+--------+------+---------+-------+---------+----------+----+--------------+---------------+-----+\n",
      "|fabricante|tipo_combustivel|aspirado|portas|     tipo|direcao|cilindros|horsepower| rpm|consumo_cidade|consumo_estrada|preco|\n",
      "+----------+----------------+--------+------+---------+-------+---------+----------+----+--------------+---------------+-----+\n",
      "|    subaru|             gas|     std|   two|hatchback|    fwd|     four|        69|4900|            31|             36| 5118|\n",
      "| chevrolet|             gas|     std|   two|hatchback|    fwd|    three|        48|5100|            47|             53| 5151|\n",
      "|     mazda|             gas|     std|   two|hatchback|    fwd|     four|        68|5000|            30|             31| 5195|\n",
      "|    toyota|             gas|     std|   two|hatchback|    fwd|     four|        62|4800|            35|             39| 5348|\n",
      "|mitsubishi|             gas|     std|   two|hatchback|    fwd|     four|        68|5500|            37|             41| 5389|\n",
      "+----------+----------------+--------+------+---------+-------+---------+----------+----+--------------+---------------+-----+\n",
      "only showing top 5 rows\n",
      "\n"
     ]
    }
   ],
   "source": [
    "#Visualizar tabela\n",
    "carrosDF.show(5)"
   ]
  },
  {
   "cell_type": "markdown",
   "metadata": {},
   "source": [
    "# Pré-processamento dos dados"
   ]
  },
  {
   "cell_type": "code",
   "execution_count": null,
   "metadata": {},
   "outputs": [],
   "source": [
    "#Iremos usar para o modelo\n",
    "##Portas            - Categórico\n",
    "##Tipo              - Categórico\n",
    "##Horsepower        - Numérico\n",
    "##Rpm               - Numérico\n",
    "##Concumo_cidade    - Numérico"
   ]
  },
  {
   "cell_type": "code",
   "execution_count": 12,
   "metadata": {},
   "outputs": [
    {
     "name": "stdout",
     "output_type": "stream",
     "text": [
      "+------+---------+----------+----+--------------+\n",
      "|portas|     tipo|horsepower| rpm|consumo_cidade|\n",
      "+------+---------+----------+----+--------------+\n",
      "|   two|hatchback|        69|4900|            31|\n",
      "|   two|hatchback|        48|5100|            47|\n",
      "|   two|hatchback|        68|5000|            30|\n",
      "|   two|hatchback|        62|4800|            35|\n",
      "|   two|hatchback|        68|5500|            37|\n",
      "+------+---------+----------+----+--------------+\n",
      "only showing top 5 rows\n",
      "\n"
     ]
    }
   ],
   "source": [
    "#Criando novo DF com apenas as colunas desejadas\n",
    "novoCarrosDF = carrosDF.select(\"portas\",\"tipo\",\"horsepower\",\"rpm\",\"consumo_cidade\")\n",
    "novoCarrosDF.show(5)"
   ]
  },
  {
   "cell_type": "code",
   "execution_count": 13,
   "metadata": {},
   "outputs": [
    {
     "name": "stdout",
     "output_type": "stream",
     "text": [
      "Número de linhas antes de eliminar duplicados: 197\n",
      "Número de linhas após eliminar duplicados: 147\n",
      "Número de linhas eliminadas: 50\n"
     ]
    }
   ],
   "source": [
    "# Eliminar valores duplicados se houver\n",
    "#O método distinct() retorna um novo DataFrame que contém apenas as linhas distintas do DataFrame original.\n",
    "linnhasInicias = novoCarrosDF.count()\n",
    "print(\"Número de linhas antes de eliminar duplicados:\", linnhasInicias)\n",
    "novoCarrosDF = novoCarrosDF.distinct()\n",
    "linhasFinais = novoCarrosDF.count()\n",
    "print(\"Número de linhas após eliminar duplicados:\", linhasFinais)\n",
    "print(\"Número de linhas eliminadas:\", linnhasInicias - linhasFinais)"
   ]
  },
  {
   "cell_type": "code",
   "execution_count": 14,
   "metadata": {},
   "outputs": [
    {
     "name": "stdout",
     "output_type": "stream",
     "text": [
      "+------+-----------+-----------+------+---------------+\n",
      "|portas|       tipo|horsepowerf|  rpmf|consumo_cidadef|\n",
      "+------+-----------+-----------+------+---------------+\n",
      "|   two|    hardtop|      207.0|5900.0|           17.0|\n",
      "|  four|      wagon|       94.0|5200.0|           25.0|\n",
      "|  four|      sedan|       69.0|5200.0|           31.0|\n",
      "|  four|      sedan|       56.0|4500.0|           34.0|\n",
      "|  four|      wagon|      123.0|4350.0|           22.0|\n",
      "|  four|      sedan|      162.0|5100.0|           17.0|\n",
      "|  four|  hatchback|       84.0|4800.0|           26.0|\n",
      "|   two|  hatchback|       69.0|4900.0|           31.0|\n",
      "|   two|  hatchback|       68.0|5500.0|           37.0|\n",
      "|  four|      sedan|      152.0|5200.0|           17.0|\n",
      "|   two|  hatchback|       90.0|5500.0|           24.0|\n",
      "|   two|convertible|       90.0|5500.0|           24.0|\n",
      "|  four|      sedan|       70.0|5400.0|           38.0|\n",
      "|  four|      sedan|      121.0|4250.0|           20.0|\n",
      "|  four|      sedan|      116.0|5500.0|           23.0|\n",
      "|   two|  hatchback|      143.0|5500.0|           19.0|\n",
      "|   two|  hatchback|       58.0|4800.0|           49.0|\n",
      "|   two|  hatchback|      161.0|5200.0|           19.0|\n",
      "|   two|  hatchback|      102.0|5500.0|           24.0|\n",
      "|   two|  hatchback|      116.0|5500.0|           23.0|\n",
      "+------+-----------+-----------+------+---------------+\n",
      "only showing top 20 rows\n",
      "\n"
     ]
    }
   ],
   "source": [
    "#Transformando as colunas numéricas em float\n",
    "colunas2=[\"horsepower\", \"rpm\",\"consumo_cidade\"]\n",
    "CarrosDF2 = novoCarrosDF\n",
    "for col in colunas2:\n",
    "    CarrosDF2 = CarrosDF2.withColumn(col+\"f\",CarrosDF2[col].cast(\"float\")).drop(col)\n",
    "\n",
    "CarrosDF2.show()"
   ]
  },
  {
   "cell_type": "code",
   "execution_count": null,
   "metadata": {},
   "outputs": [],
   "source": [
    "#Importar funções para analise dos dados\n",
    "#from pyspark.sql.functions import count, col, asc, desc, when"
   ]
  },
  {
   "cell_type": "code",
   "execution_count": 15,
   "metadata": {},
   "outputs": [
    {
     "name": "stdout",
     "output_type": "stream",
     "text": [
      "+------+-----+\n",
      "|portas|count|\n",
      "+------+-----+\n",
      "|   two|   59|\n",
      "|  four|   88|\n",
      "+------+-----+\n",
      "\n"
     ]
    }
   ],
   "source": [
    "#Identificar Valores únicos em portas\n",
    "portasDf = CarrosDF2.groupBy(\"portas\").count()\n",
    "portasDf.show()"
   ]
  },
  {
   "cell_type": "code",
   "execution_count": 16,
   "metadata": {},
   "outputs": [
    {
     "name": "stdout",
     "output_type": "stream",
     "text": [
      "+-----------+-----+\n",
      "|       tipo|count|\n",
      "+-----------+-----+\n",
      "|      wagon|   20|\n",
      "|convertible|    5|\n",
      "|      sedan|   72|\n",
      "|  hatchback|   45|\n",
      "|    hardtop|    5|\n",
      "+-----------+-----+\n",
      "\n"
     ]
    }
   ],
   "source": [
    "#Identificar Valores únicos em tipo\n",
    "tipoDf = CarrosDF2.groupBy(\"tipo\").count()\n",
    "tipoDf.show()"
   ]
  },
  {
   "cell_type": "markdown",
   "metadata": {},
   "source": [
    "------"
   ]
  },
  {
   "cell_type": "markdown",
   "metadata": {},
   "source": [
    "### Representar Variáveis caregóricas"
   ]
  },
  {
   "cell_type": "markdown",
   "metadata": {},
   "source": [
    "PROCESSO 1\n",
    "\n",
    "Etapas:\n",
    "- Identificar categorias únicas presentes no DataFrame;\n",
    "- Atribuir um índice acada categoria identificada;\n",
    "- Criar uma coluna com os índices\n",
    "\n",
    "\n",
    "Uso: *StringIndexer*"
   ]
  },
  {
   "cell_type": "code",
   "execution_count": 17,
   "metadata": {},
   "outputs": [],
   "source": [
    "#Importar classe para converter colunas de strings em índices numéricos\n",
    "from pyspark.ml.feature import StringIndexer"
   ]
  },
  {
   "cell_type": "markdown",
   "metadata": {},
   "source": [
    "Personalizações:\n",
    "- O parêmetro StringOrderType permite alterar a ordem de atribuição de índices.\n",
    "- O parêmetro HandleInvalid permite definir como valores desconhecidos e inválidos serão tratados."
   ]
  },
  {
   "cell_type": "code",
   "execution_count": 18,
   "metadata": {},
   "outputs": [
    {
     "data": {
      "text/plain": [
       "'A classe StringIndexer converte colunas categóricas em índices numéricos, atribuindo um número inteiro a cada categoria.\\nO índice atribuído é baseado na frequência da categoria, onde a categoria mais frequente recebe o índice 0, a segunda mais frequente recebe o índice 1 e assim por diante.'"
      ]
     },
     "execution_count": 18,
     "metadata": {},
     "output_type": "execute_result"
    }
   ],
   "source": [
    "#Criar a indexação das colunas categóricas (sem personalização)\n",
    "indexer_portas = StringIndexer(inputCol=\"portas\", outputCol=\"portas_indexadas\")\n",
    "indexer_tipo = StringIndexer(inputCol=\"tipo\", outputCol=\"tipo_indexado\")\n",
    "'''A classe StringIndexer converte colunas categóricas em índices numéricos, atribuindo um número inteiro a cada categoria.\n",
    "O índice atribuído é baseado na frequência da categoria, onde a categoria mais frequente recebe o índice 0, a segunda mais frequente recebe o índice 1 e assim por diante.'''\n",
    "\n"
   ]
  },
  {
   "cell_type": "markdown",
   "metadata": {},
   "source": [
    "PROCESSO 2 - \n",
    "\n",
    "Etapas:\n",
    "- Criar um vetor binário para cada índice númérico obtido pelo StringIndexer;\n",
    "- Atribuir o valor 1 a posição correpondente ao índice e 0 nas demais posições.\n",
    "\n",
    "Uso: *OneHotEncoder*"
   ]
  },
  {
   "cell_type": "code",
   "execution_count": 19,
   "metadata": {},
   "outputs": [],
   "source": [
    "#Importar classe para transformar os índices numéricos em vetores binários (one-hot encoded vectors)\n",
    "from pyspark.ml.feature import OneHotEncoder"
   ]
  },
  {
   "cell_type": "code",
   "execution_count": 20,
   "metadata": {},
   "outputs": [],
   "source": [
    "# One-Hot Encoding\n",
    "encoder = OneHotEncoder(inputCols=[\"portas_indexadas\", \"tipo_indexado\"], outputCols=[\"portas_encoded\", \"tipo_encoded\"])"
   ]
  },
  {
   "cell_type": "markdown",
   "metadata": {},
   "source": [
    "PROCESSO 3 - Vetorização\n",
    "\n",
    "Etapas:\n",
    "- Concatena os valores dessas colunas em uma única estrutura de dados\n",
    "\n",
    "Uso: VectorAssembler\n"
   ]
  },
  {
   "cell_type": "code",
   "execution_count": 21,
   "metadata": {},
   "outputs": [],
   "source": [
    "#Importar classe para combinar várias colunas em uma coluna de vetor\n",
    "from pyspark.ml.feature import VectorAssembler"
   ]
  },
  {
   "cell_type": "code",
   "execution_count": null,
   "metadata": {},
   "outputs": [
    {
     "data": {
      "text/plain": [
       "'\\nO VectorAssembler combina várias colunas em uma única coluna de vetor, o que é necessário para a maioria dos algoritmos de aprendizado de máquina no Spark.\\nO parâmetro inputCols especifica as colunas de entrada que serão combinadas, e o parâmetro outputCol especifica o nome da coluna de saída que conterá o vetor resultante.\\nO parâmetro handleInvalid=\"skip\" é usado para lidar com valores inválidos durante a transformação. Nesse caso, os valores inválidos serão ignorados e não incluídos no vetor resultante.\\nO parâmetro outputCol especifica o nome da coluna de saída que conterá o vetor resultante.\\n\\n'"
      ]
     },
     "execution_count": 22,
     "metadata": {},
     "output_type": "execute_result"
    }
   ],
   "source": [
    "#Realizar a Vetorização das features\n",
    "assembler = VectorAssembler(inputCols=[\"portas_encoded\", \"tipo_encoded\", \"horsepowerf\", \"rpmf\", \"consumo_cidadef\"], outputCol=\"features_nao_escaladas\")\n",
    "'''\n",
    "O VectorAssembler combina várias colunas em uma única coluna de vetor, o que é necessário para a maioria dos algoritmos de aprendizado de máquina no Spark.\n",
    "O parâmetro inputCols especifica as colunas de entrada que serão combinadas, e o parâmetro outputCol especifica o nome da coluna de saída que conterá o vetor resultante.\n",
    "O parâmetro handleInvalid=\"skip\" é usado para lidar com valores inválidos durante a transformação. Nesse caso, os valores inválidos serão ignorados e não incluídos no vetor resultante.\n",
    "O parâmetro outputCol especifica o nome da coluna de saída que conterá o vetor resultante.\n",
    "\n",
    "'''"
   ]
  },
  {
   "cell_type": "markdown",
   "metadata": {},
   "source": [
    "PROCESSO 4 - Normalização dos dados\n",
    "\n",
    "Etapas:\n",
    "- Centralizar os dados [Média=0];\n",
    "- escala os dados [Desvio Padrão=1];\n",
    "Requisito: Mantem a distribuição original dos daods\n",
    "\n",
    "Uso: StandardScaler"
   ]
  },
  {
   "cell_type": "markdown",
   "metadata": {},
   "source": [
    "A média e o desvio padrão utilizados para o escalonamento devem ser calculados apenas no conjunto de treinamento."
   ]
  },
  {
   "cell_type": "markdown",
   "metadata": {},
   "source": [
    "O StandardScaler funciona melhor quando as features têm distribuições aproximadamente normais."
   ]
  },
  {
   "cell_type": "markdown",
   "metadata": {},
   "source": [
    "Quando considerar outros métodos?\n",
    "Outliers: Se os seus dados tiverem muitos outliers, o RobustScaler pode ser uma opção melhor, pois ele é menos sensível a outliers.\n",
    "Dados com valores limitados: Se os seus dados estão limitados a um determinado intervalo (por exemplo, entre 0 e 1), o MinMaxScaler pode ser mais adequado."
   ]
  },
  {
   "cell_type": "code",
   "execution_count": 23,
   "metadata": {},
   "outputs": [],
   "source": [
    "#Importar classe para padronizar as features do conjunto de dados\n",
    "from pyspark.ml.feature import StandardScaler"
   ]
  },
  {
   "cell_type": "code",
   "execution_count": 24,
   "metadata": {},
   "outputs": [
    {
     "data": {
      "text/plain": [
       "'\\nO StandardScaler é usado para padronizar as features, ou seja, ajustar a média e o desvio padrão de cada feature para que tenham média 0 e desvio padrão 1.\\nO parâmetro withStd=True indica que o escalonamento deve ser feito com base no desvio padrão, enquanto withMean=True indica que a média deve ser subtraída.\\nIsso é útil para garantir que todas as features tenham a mesma escala e contribuam igualmente para o modelo de aprendizado de máquina.\\n'"
      ]
     },
     "execution_count": 24,
     "metadata": {},
     "output_type": "execute_result"
    }
   ],
   "source": [
    "# Padronizar as features\n",
    "scaler = StandardScaler(inputCol=\"features_nao_escaladas\", outputCol=\"features\", withStd=True, withMean=True)\n",
    "'''\n",
    "O StandardScaler é usado para padronizar as features, ou seja, ajustar a média e o desvio padrão de cada feature para que tenham média 0 e desvio padrão 1.\n",
    "O parâmetro withStd=True indica que o escalonamento deve ser feito com base no desvio padrão, enquanto withMean=True indica que a média deve ser subtraída.\n",
    "Isso é útil para garantir que todas as features tenham a mesma escala e contribuam igualmente para o modelo de aprendizado de máquina.\n",
    "'''"
   ]
  },
  {
   "cell_type": "markdown",
   "metadata": {},
   "source": [
    "PROCESSO 5\n",
    "\n",
    "Etapas:\n",
    "- Definir a sequêcncia de etapas de preparo e treinamento;\n",
    "- Executar as stages em ordem;\n",
    "- Aplicar os stage a aos dados de treinamento.\n",
    "- Realizar previão em novos dados\n",
    "\n",
    "Uso: *Pipeline*"
   ]
  },
  {
   "cell_type": "markdown",
   "metadata": {},
   "source": [
    "Personalizações:\n",
    "- Hyperparameter tuning: O Pipeline pode ser usado em conjunto com ferramentas de otimização de hiperparâmetros, como o GridSearchCV, para encontrar os melhores valores para os parâmetros dos modelos."
   ]
  },
  {
   "cell_type": "code",
   "execution_count": 25,
   "metadata": {},
   "outputs": [],
   "source": [
    "#Importar classe para gerenciar fluxo de trabalho estruturada e sequencial\n",
    "from pyspark.ml import Pipeline"
   ]
  },
  {
   "cell_type": "code",
   "execution_count": 26,
   "metadata": {},
   "outputs": [
    {
     "data": {
      "text/plain": [
       "'O pipeline é uma sequência de transformações que serão aplicadas aos dados.'"
      ]
     },
     "execution_count": 26,
     "metadata": {},
     "output_type": "execute_result"
    }
   ],
   "source": [
    "# Criar Pipeline\n",
    "pipeline = Pipeline(stages=[indexer_portas, indexer_tipo, encoder, assembler, scaler])\n",
    "'''O pipeline é uma sequência de transformações que serão aplicadas aos dados.'''\n"
   ]
  },
  {
   "cell_type": "code",
   "execution_count": 27,
   "metadata": {},
   "outputs": [],
   "source": [
    "# Aplicar o pipeline aos dados\n",
    "carrosDfPreparado = pipeline.fit(CarrosDF2).transform(CarrosDF2)"
   ]
  },
  {
   "cell_type": "code",
   "execution_count": null,
   "metadata": {},
   "outputs": [
    {
     "name": "stdout",
     "output_type": "stream",
     "text": [
      "+------+---------+-----------+------+---------------+----------------+-------------+--------------+-------------+----------------------+--------------------+\n",
      "|portas|     tipo|horsepowerf|  rpmf|consumo_cidadef|portas_indexadas|tipo_indexado|portas_encoded| tipo_encoded|features_nao_escaladas|            features|\n",
      "+------+---------+-----------+------+---------------+----------------+-------------+--------------+-------------+----------------------+--------------------+\n",
      "|   two|hatchback|       69.0|4900.0|           31.0|             1.0|          1.0|     (1,[],[])|(4,[1],[1.0])|  (8,[2,5,6,7],[1.0...|[-1.1449709581789...|\n",
      "|   two|hatchback|       48.0|5100.0|           47.0|             1.0|          1.0|     (1,[],[])|(4,[1],[1.0])|  (8,[2,5,6,7],[1.0...|[-1.1449709581789...|\n",
      "|   two|hatchback|       68.0|5000.0|           30.0|             1.0|          1.0|     (1,[],[])|(4,[1],[1.0])|  (8,[2,5,6,7],[1.0...|[-1.1449709581789...|\n",
      "|   two|hatchback|       62.0|4800.0|           35.0|             1.0|          1.0|     (1,[],[])|(4,[1],[1.0])|  (8,[2,5,6,7],[1.0...|[-1.1449709581789...|\n",
      "|   two|hatchback|       68.0|5500.0|           37.0|             1.0|          1.0|     (1,[],[])|(4,[1],[1.0])|  (8,[2,5,6,7],[1.0...|[-1.1449709581789...|\n",
      "+------+---------+-----------+------+---------------+----------------+-------------+--------------+-------------+----------------------+--------------------+\n",
      "only showing top 5 rows\n",
      "\n"
     ]
    }
   ],
   "source": [
    "# Visualizar os dados preparados\n",
    "carrosDfPreparado.show(5)"
   ]
  },
  {
   "cell_type": "code",
   "execution_count": null,
   "metadata": {},
   "outputs": [
    {
     "name": "stdout",
     "output_type": "stream",
     "text": [
      "+------------------------------------+\n",
      "|features_nao_escaladas              |\n",
      "+------------------------------------+\n",
      "|(8,[2,5,6,7],[1.0,69.0,4900.0,31.0])|\n",
      "|(8,[2,5,6,7],[1.0,48.0,5100.0,47.0])|\n",
      "|(8,[2,5,6,7],[1.0,68.0,5000.0,30.0])|\n",
      "+------------------------------------+\n",
      "only showing top 3 rows\n",
      "\n"
     ]
    }
   ],
   "source": [
    "# Visualizar os dados de features não escaladas\n",
    "carrosDfPreparado.select(\"features_nao_escaladas\").show(3, False)"
   ]
  },
  {
   "cell_type": "code",
   "execution_count": null,
   "metadata": {},
   "outputs": [
    {
     "name": "stdout",
     "output_type": "stream",
     "text": [
      "+-----------------------------------------------------------------------------------------------------------------------------------------------------------------+\n",
      "|features                                                                                                                                                         |\n",
      "+-----------------------------------------------------------------------------------------------------------------------------------------------------------------+\n",
      "|[-1.2171191364344232,-0.976457570893432,-0.6619480871700161,-0.3954858029070498,-0.18700731315363694,2.5794636704236793,1.6467788186897516,-1.189667699989668]   |\n",
      "|[0.8160230573821701,-0.976457570893432,-0.6619480871700161,2.5113348484597657,-0.18700731315363694,-0.29004282766148975,0.1941123768279837,-0.011024721735371928]|\n",
      "|[0.8160230573821701,1.0171433030139918,-0.6619480871700161,-0.3954858029070498,-0.18700731315363694,-0.9248893980343148,0.1941123768279837,0.8729575119553502]   |\n",
      "+-----------------------------------------------------------------------------------------------------------------------------------------------------------------+\n",
      "only showing top 3 rows\n",
      "\n"
     ]
    }
   ],
   "source": [
    "# Visualizar os dados de features já escalados sem truncar os valores longos\n",
    "carrosDfPreparado.select(\"features\").show(3, False)"
   ]
  },
  {
   "cell_type": "code",
   "execution_count": 29,
   "metadata": {},
   "outputs": [],
   "source": [
    "#Importando a classe ClusteringEvaluator para avaliar a qualidade dos clusters\n",
    "from pyspark.ml.evaluation import ClusteringEvaluator"
   ]
  },
  {
   "cell_type": "code",
   "execution_count": 30,
   "metadata": {},
   "outputs": [],
   "source": [
    "#Avaliar Clustering\n",
    "avaliador = ClusteringEvaluator()"
   ]
  },
  {
   "cell_type": "code",
   "execution_count": 31,
   "metadata": {},
   "outputs": [],
   "source": [
    "#Importando classe KMeans para clusterização K-means\n",
    "from pyspark.ml.clustering import KMeans"
   ]
  },
  {
   "cell_type": "code",
   "execution_count": 32,
   "metadata": {},
   "outputs": [],
   "source": [
    "#Testar numeros diferentes de clusters\n",
    "#Será usado o método Silhueta que mede a coesão e a separação dos clusters\n",
    "#Objetivo: Encontrar k que Máximize a pontuação da silhueta\n",
    "resultados = {}\n",
    "for k in range(2,6):\n",
    "    kmeans = KMeans(k=k,seed=1)\n",
    "    model = kmeans.fit(carrosDfPreparado.select(\"features\"))\n",
    "    predictions = model.transform(carrosDfPreparado.select(\"features\"))\n",
    "    silhouette = avaliador.evaluate(predictions)\n",
    "    resultados[k]=silhouette"
   ]
  },
  {
   "cell_type": "code",
   "execution_count": 33,
   "metadata": {},
   "outputs": [
    {
     "name": "stdout",
     "output_type": "stream",
     "text": [
      "Para k=5, silhueta é 0.5266775941180634\n"
     ]
    }
   ],
   "source": [
    "#Resultado\n",
    "print(f\"Para k={max(resultados,key=resultados.get)}, silhueta é {resultados[max(resultados,key=resultados.get)]}\")"
   ]
  },
  {
   "cell_type": "code",
   "execution_count": 59,
   "metadata": {},
   "outputs": [],
   "source": [
    "# Criando modelo\n",
    "kmeans = KMeans(k=5, seed=1)"
   ]
  },
  {
   "cell_type": "code",
   "execution_count": 60,
   "metadata": {},
   "outputs": [
    {
     "data": {
      "text/plain": [
       "'O modelo é treinado usando o método fit, que ajusta o modelo aos dados de entrada. O resultado é um modelo KMeans treinado que pode ser usado para prever os clusters dos dados.\\nO modelo KMeans é um algoritmo de aprendizado não supervisionado que agrupa os dados em k clusters com base nas características fornecidas.\\nO parâmetro k especifica o número de clusters a serem formados, e o parâmetro seed é usado para garantir a reprodutibilidade dos resultados.\\n'"
      ]
     },
     "execution_count": 60,
     "metadata": {},
     "output_type": "execute_result"
    }
   ],
   "source": [
    "#Treinando o modelo\n",
    "modelo = kmeans.fit(carrosDfPreparado.select(\"features\"))\n",
    "'''O modelo é treinado usando o método fit, que ajusta o modelo aos dados de entrada. O resultado é um modelo KMeans treinado que pode ser usado para prever os clusters dos dados.\n",
    "O modelo KMeans é um algoritmo de aprendizado não supervisionado que agrupa os dados em k clusters com base nas características fornecidas.\n",
    "O parâmetro k especifica o número de clusters a serem formados, e o parâmetro seed é usado para garantir a reprodutibilidade dos resultados.\n",
    "'''\n"
   ]
  },
  {
   "cell_type": "code",
   "execution_count": 61,
   "metadata": {},
   "outputs": [
    {
     "name": "stdout",
     "output_type": "stream",
     "text": [
      "+--------------------+----------+\n",
      "|            features|prediction|\n",
      "+--------------------+----------+\n",
      "|[-1.2171191364344...|         3|\n",
      "|[0.81602305738217...|         2|\n",
      "|[0.81602305738217...|         4|\n",
      "|[0.81602305738217...|         4|\n",
      "|[0.81602305738217...|         2|\n",
      "|[0.81602305738217...|         3|\n",
      "|[0.81602305738217...|         1|\n",
      "|[-1.2171191364344...|         1|\n",
      "|[-1.2171191364344...|         1|\n",
      "|[0.81602305738217...|         3|\n",
      "|[-1.2171191364344...|         1|\n",
      "|[-1.2171191364344...|         0|\n",
      "|[0.81602305738217...|         4|\n",
      "|[0.81602305738217...|         4|\n",
      "|[0.81602305738217...|         3|\n",
      "|[-1.2171191364344...|         1|\n",
      "|[-1.2171191364344...|         1|\n",
      "|[-1.2171191364344...|         1|\n",
      "|[-1.2171191364344...|         1|\n",
      "|[-1.2171191364344...|         1|\n",
      "+--------------------+----------+\n",
      "only showing top 20 rows\n",
      "\n"
     ]
    }
   ],
   "source": [
    "#Predição\n",
    "previsoes = modelo.transform(carrosDfPreparado.select(\"features\"))\n",
    "#Visualizar previsões\n",
    "previsoes.show()"
   ]
  },
  {
   "cell_type": "markdown",
   "metadata": {},
   "source": [
    "### Preparando a visualização das previsões"
   ]
  },
  {
   "cell_type": "code",
   "execution_count": 37,
   "metadata": {},
   "outputs": [],
   "source": [
    "#Importar a biblioteca pandas\n",
    "import pandas as pd"
   ]
  },
  {
   "cell_type": "code",
   "execution_count": 62,
   "metadata": {
    "id": "648EujxRL27-"
   },
   "outputs": [],
   "source": [
    "#Extrair as 5 caracteristicas das previsões (portas...)\n",
    "def unstripData(instr):\n",
    "  return (instr[\"prediction\"],\n",
    "          instr[\"features\"][-3],# horsepowerf\n",
    "          instr[\"features\"][-2],# rpmf\n",
    "          instr[\"features\"][-1],# consumo_cidadef\n",
    "          )"
   ]
  },
  {
   "cell_type": "code",
   "execution_count": 63,
   "metadata": {},
   "outputs": [],
   "source": [
    "#Criar estrutura de dados distribuida\n",
    "#Aplicar a função nas previsões\n",
    "carrosRDD = previsoes.rdd.map(unstripData)\n",
    "predList = carrosRDD.collect()"
   ]
  },
  {
   "cell_type": "code",
   "execution_count": 64,
   "metadata": {},
   "outputs": [
    {
     "data": {
      "text/html": [
       "<div>\n",
       "<style scoped>\n",
       "    .dataframe tbody tr th:only-of-type {\n",
       "        vertical-align: middle;\n",
       "    }\n",
       "\n",
       "    .dataframe tbody tr th {\n",
       "        vertical-align: top;\n",
       "    }\n",
       "\n",
       "    .dataframe thead th {\n",
       "        text-align: right;\n",
       "    }\n",
       "</style>\n",
       "<table border=\"1\" class=\"dataframe\">\n",
       "  <thead>\n",
       "    <tr style=\"text-align: right;\">\n",
       "      <th></th>\n",
       "      <th>0</th>\n",
       "      <th>1</th>\n",
       "      <th>2</th>\n",
       "      <th>3</th>\n",
       "    </tr>\n",
       "  </thead>\n",
       "  <tbody>\n",
       "    <tr>\n",
       "      <th>0</th>\n",
       "      <td>3</td>\n",
       "      <td>2.579464</td>\n",
       "      <td>1.646779</td>\n",
       "      <td>-1.189668</td>\n",
       "    </tr>\n",
       "    <tr>\n",
       "      <th>1</th>\n",
       "      <td>2</td>\n",
       "      <td>-0.290043</td>\n",
       "      <td>0.194112</td>\n",
       "      <td>-0.011025</td>\n",
       "    </tr>\n",
       "    <tr>\n",
       "      <th>2</th>\n",
       "      <td>4</td>\n",
       "      <td>-0.924889</td>\n",
       "      <td>0.194112</td>\n",
       "      <td>0.872958</td>\n",
       "    </tr>\n",
       "    <tr>\n",
       "      <th>3</th>\n",
       "      <td>4</td>\n",
       "      <td>-1.255010</td>\n",
       "      <td>-1.258554</td>\n",
       "      <td>1.314949</td>\n",
       "    </tr>\n",
       "    <tr>\n",
       "      <th>4</th>\n",
       "      <td>2</td>\n",
       "      <td>0.446379</td>\n",
       "      <td>-1.569840</td>\n",
       "      <td>-0.453016</td>\n",
       "    </tr>\n",
       "    <tr>\n",
       "      <th>5</th>\n",
       "      <td>3</td>\n",
       "      <td>1.436740</td>\n",
       "      <td>-0.013411</td>\n",
       "      <td>-1.189668</td>\n",
       "    </tr>\n",
       "    <tr>\n",
       "      <th>6</th>\n",
       "      <td>1</td>\n",
       "      <td>-0.543981</td>\n",
       "      <td>-0.635983</td>\n",
       "      <td>0.136306</td>\n",
       "    </tr>\n",
       "    <tr>\n",
       "      <th>7</th>\n",
       "      <td>1</td>\n",
       "      <td>-0.924889</td>\n",
       "      <td>-0.428459</td>\n",
       "      <td>0.872958</td>\n",
       "    </tr>\n",
       "    <tr>\n",
       "      <th>8</th>\n",
       "      <td>1</td>\n",
       "      <td>-0.950283</td>\n",
       "      <td>0.816684</td>\n",
       "      <td>1.756940</td>\n",
       "    </tr>\n",
       "    <tr>\n",
       "      <th>9</th>\n",
       "      <td>3</td>\n",
       "      <td>1.182801</td>\n",
       "      <td>0.194112</td>\n",
       "      <td>-1.189668</td>\n",
       "    </tr>\n",
       "  </tbody>\n",
       "</table>\n",
       "</div>"
      ],
      "text/plain": [
       "   0         1         2         3\n",
       "0  3  2.579464  1.646779 -1.189668\n",
       "1  2 -0.290043  0.194112 -0.011025\n",
       "2  4 -0.924889  0.194112  0.872958\n",
       "3  4 -1.255010 -1.258554  1.314949\n",
       "4  2  0.446379 -1.569840 -0.453016\n",
       "5  3  1.436740 -0.013411 -1.189668\n",
       "6  1 -0.543981 -0.635983  0.136306\n",
       "7  1 -0.924889 -0.428459  0.872958\n",
       "8  1 -0.950283  0.816684  1.756940\n",
       "9  3  1.182801  0.194112 -1.189668"
      ]
     },
     "execution_count": 64,
     "metadata": {},
     "output_type": "execute_result"
    }
   ],
   "source": [
    "#Converter em DataFrame\n",
    "predPd = pd.DataFrame(predList)\n",
    "predPd.head(10)"
   ]
  },
  {
   "cell_type": "code",
   "execution_count": 65,
   "metadata": {},
   "outputs": [
    {
     "data": {
      "text/plain": [
       "0  1          2          3        \n",
       "3   1.995405  -1.258554  -1.631659    2\n",
       "1  -1.102646  -0.635983   0.872958    2\n",
       "4  -0.924889   0.194112   0.872958    2\n",
       "1  -0.924889   0.194112   0.872958    2\n",
       "4  -0.518588   0.297874   0.283636    2\n",
       "                                     ..\n",
       "1   1.385952   0.816684  -0.895007    1\n",
       "               0.194112  -0.895007    1\n",
       "    1.233589  -0.220935  -0.895007    1\n",
       "    1.005044  -0.220935  -0.895007    1\n",
       "4   0.446379  -1.569840  -0.453016    1\n",
       "Name: count, Length: 134, dtype: int64"
      ]
     },
     "execution_count": 65,
     "metadata": {},
     "output_type": "execute_result"
    }
   ],
   "source": [
    "predPd.value_counts()"
   ]
  },
  {
   "cell_type": "code",
   "execution_count": 66,
   "metadata": {},
   "outputs": [
    {
     "data": {
      "text/plain": [
       "(147, 4)"
      ]
     },
     "execution_count": 66,
     "metadata": {},
     "output_type": "execute_result"
    }
   ],
   "source": [
    "predPd.shape"
   ]
  },
  {
   "cell_type": "code",
   "execution_count": 67,
   "metadata": {},
   "outputs": [
    {
     "data": {
      "text/plain": [
       "(134, 4)"
      ]
     },
     "execution_count": 67,
     "metadata": {},
     "output_type": "execute_result"
    }
   ],
   "source": [
    "# Remover Linhas duplicadas\n",
    "predPd_Limpo = predPd.drop_duplicates()\n",
    "predPd_Limpo.shape"
   ]
  },
  {
   "cell_type": "code",
   "execution_count": 93,
   "metadata": {},
   "outputs": [
    {
     "name": "stdout",
     "output_type": "stream",
     "text": [
      "   Cluster  Quantidade\n",
      "0        1          48\n",
      "1        3          38\n",
      "2        4          36\n",
      "3        2          20\n",
      "4        0           5\n"
     ]
    }
   ],
   "source": [
    "# Analisar se está sendo gerado clusters com baixa coesão\n",
    "# Analisar a distribioção\n",
    "distribuicaoClusters = predPd.value_counts(0).reset_index()\n",
    "# Renomear as colunas do DataFrame\n",
    "distribuicaoClusters.columns = [\"Cluster\", \"Quantidade\"]\n",
    "# Ordenar o DataFrame pela quantidade de forma decrescente\n",
    "distribuicaoClusters = distribuicaoClusters.sort_values(by=\"Quantidade\", ascending=False).reset_index(drop=True)\n",
    "print( distribuicaoClusters)\n"
   ]
  },
  {
   "cell_type": "markdown",
   "metadata": {},
   "source": [
    "# Visualização (utilizando o Pandas)"
   ]
  },
  {
   "cell_type": "code",
   "execution_count": 45,
   "metadata": {},
   "outputs": [],
   "source": [
    "#Importando o módulo matplotlib.pylab para criação de gráficos\n",
    "import matplotlib.pylab as plt"
   ]
  },
  {
   "cell_type": "code",
   "execution_count": 109,
   "metadata": {},
   "outputs": [],
   "source": [
    "import matplotlib.cm as cm"
   ]
  },
  {
   "cell_type": "code",
   "execution_count": 76,
   "metadata": {},
   "outputs": [
    {
     "name": "stderr",
     "output_type": "stream",
     "text": [
      "C:\\Users\\sopro\\AppData\\Local\\Temp\\ipykernel_7816\\4024355273.py:4: MatplotlibDeprecationWarning: The get_cmap function was deprecated in Matplotlib 3.7 and will be removed in 3.11. Use ``matplotlib.colormaps[name]`` or ``matplotlib.colormaps.get_cmap()`` or ``pyplot.get_cmap()`` instead.\n",
      "  cmap = cm.get_cmap(\"viridis\", n_clusters)\n"
     ]
    }
   ],
   "source": [
    "# Número de clusters\n",
    "n_clusters = distribuicaoClusters.shape[0]\n",
    "# Gerar colormap\n",
    "cmap = cm.get_cmap(\"viridis\", n_clusters)\n",
    "# Mapear os clusters para cores\n",
    "clusterCores = [cmap(i) for i in range(n_clusters)]"
   ]
  },
  {
   "cell_type": "code",
   "execution_count": null,
   "metadata": {},
   "outputs": [],
   "source": [
    "# Mapear os clusters para cores\n",
    "cores_barras = distribuicaoClusters[\"Cluster\"].map(lambda x: clusterCores[x])"
   ]
  },
  {
   "cell_type": "code",
   "execution_count": 108,
   "metadata": {},
   "outputs": [
    {
     "data": {
      "image/png": "[encoded data removed]",
      "text/plain": [
       "<Figure size 1000x600 with 1 Axes>"
      ]
     },
     "metadata": {},
     "output_type": "display_data"
    },
    {
     "data": {
      "text/plain": [
       "'#O gráfico mostra a distribuição dos carros em cada cluster, permitindo identificar se há clusters com baixa coesão ou se os dados estão bem distribuídos entre os clusters.\\n'"
      ]
     },
     "execution_count": 108,
     "metadata": {},
     "output_type": "execute_result"
    }
   ],
   "source": [
    "plt.figure(figsize=(10, 6))\n",
    "plt.title(\"Tamanho dos clusters\")\n",
    "plt.xlabel(\"Clusters\")\n",
    "plt.ylabel(\"Número de Carros\")\n",
    "# Criar gráfico de barras\n",
    "plt.bar(distribuicaoClusters.index, distribuicaoClusters[\"Quantidade\"], color=cores_barras, alpha=0.7,)\n",
    "# Adicionar rótulos de valor acima de cada barra\n",
    "for i, v in enumerate(distribuicaoClusters[\"Quantidade\"]):\n",
    "    plt.text(i, v + 0.5, str(v), ha='center', va='bottom', fontsize=10, color=\"black\")\n",
    "\n",
    "plt.xticks(distribuicaoClusters[\"Cluster\"], rotation=0)\n",
    "plt.grid(axis=\"y\", linestyle=\"--\", alpha=0.7)\n",
    "plt.show()\n",
    "'''#O gráfico mostra a distribuição dos carros em cada cluster, permitindo identificar se há clusters com baixa coesão ou se os dados estão bem distribuídos entre os clusters.\n",
    "'''"
   ]
  },
  {
   "cell_type": "code",
   "execution_count": null,
   "metadata": {},
   "outputs": [],
   "source": [
    "# Mapear os clusters para cores\n",
    "cores_dispersao = predPd_Limpo[\"cluster\"].map(lambda x: clusterCores[x])"
   ]
  },
  {
   "cell_type": "code",
   "execution_count": 90,
   "metadata": {},
   "outputs": [
    {
     "data": {
      "text/plain": [
       "<function matplotlib.pyplot.show(close=None, block=None)>"
      ]
     },
     "execution_count": 90,
     "metadata": {},
     "output_type": "execute_result"
    },
    {
     "data": {
      "image/png": "[encoded data removed]",
      "text/plain": [
       "<Figure size 1000x600 with 2 Axes>"
      ]
     },
     "metadata": {},
     "output_type": "display_data"
    }
   ],
   "source": [
    "# Extrair nomes das colunas | Para desenhar o gráfico com rótulos mais claros\n",
    "# Criar uma lista com os nomes das colunas\n",
    "predPd_Limpo.columns = [\"cluster\", \"horsepower\", \"rpm\", \"consumo_cidade\"]\n",
    "#Resultado das cluscters criadas\n",
    "plt.figure(figsize=(10,6))\n",
    "plt.scatter(predPd_Limpo[\"horsepower\"],predPd_Limpo[\"consumo_cidade\"],c=cores_dispersao)\n",
    "plt.title(\"Clusters de Carros\")\n",
    "plt.xlabel(\"horsepower\")\n",
    "plt.ylabel(\"consumo_cidade\")\n",
    "plt.colorbar(label=\"Cluster\")\n",
    "plt.grid(True)\n",
    "plt.show"
   ]
  },
  {
   "cell_type": "code",
   "execution_count": 91,
   "metadata": {
    "id": "EhISIYCqOUqK"
   },
   "outputs": [
    {
     "data": {
      "text/plain": [
       "<function matplotlib.pyplot.show(close=None, block=None)>"
      ]
     },
     "execution_count": 91,
     "metadata": {},
     "output_type": "execute_result"
    },
    {
     "data": {
      "image/png": "[encoded data removed]",
      "text/plain": [
       "<Figure size 640x480 with 1 Axes>"
      ]
     },
     "metadata": {},
     "output_type": "display_data"
    }
   ],
   "source": [
    "#Resultado das cluscters criadas\n",
    "plt.cla()\n",
    "plt.scatter(predPd_Limpo[\"horsepower\"],predPd_Limpo[\"consumo_cidade\"],c=cores_dispersao)\n",
    "plt.xlabel(\"horsepower\")\n",
    "plt.ylabel(\"consumo_cidade\")\n",
    "plt.show"
   ]
  },
  {
   "cell_type": "code",
   "execution_count": 110,
   "metadata": {},
   "outputs": [],
   "source": [
    "# Encerra a sessão Spark\n",
    "spark.stop()"
   ]
  },
  {
   "cell_type": "markdown",
   "metadata": {
    "id": "m7s7sbsoOnA6"
   },
   "source": [
    "FIM"
   ]
  }
 ],
 "metadata": {
  "colab": {
   "authorship_tag": "ABX9TyND9/uzY/ARFDBhFe+pjRJH",
   "provenance": []
  },
  "kernelspec": {
   "display_name": "Python 3",
   "name": "python3"
  },
  "language_info": {
   "codemirror_mode": {
    "name": "ipython",
    "version": 3
   },
   "file_extension": ".py",
   "mimetype": "text/x-python",
   "name": "python",
   "nbconvert_exporter": "python",
   "pygments_lexer": "ipython3",
   "version": "3.11.9"
  }
 },
 "nbformat": 4,
 "nbformat_minor": 0
}

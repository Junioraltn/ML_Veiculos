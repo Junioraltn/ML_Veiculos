{
 "cells": [
  {
   "cell_type": "code",
   "execution_count": null,
   "metadata": {},
   "outputs": [],
   "source": [
    "####Passos iniciais\n",
    "##Instalar o java -> criar variáveis de ambiente ex:\n",
    "#import os\n",
    "# os.environ[\"JAVA_HOME\"] = \"endereço onde o java foi instalado\"\n",
    "# os.environ[\"SPARK_HOME\"] = \"endereço onde o Spark foi instalado\"\n",
    "##Para instalar o framework\n",
    "#%pip install pyspark"
   ]
  },
  {
   "cell_type": "code",
   "execution_count": 1,
   "metadata": {
    "id": "h_uPrULL-vTI"
   },
   "outputs": [
    {
     "name": "stdout",
     "output_type": "stream",
     "text": [
      "versão da linguagem python usada neste Jupyter Notbook 3.11.9\n"
     ]
    }
   ],
   "source": [
    "#Versão da linguagem Python\n",
    "from platform import python_version\n",
    "print(\"versão da linguagem python usada neste Jupyter Notbook\", python_version())"
   ]
  },
  {
   "cell_type": "markdown",
   "metadata": {},
   "source": [
    "# Preparativos"
   ]
  },
  {
   "cell_type": "code",
   "execution_count": 2,
   "metadata": {
    "colab": {
     "base_uri": "https://localhost:8080/",
     "height": 349
    },
    "executionInfo": {
     "elapsed": 345,
     "status": "error",
     "timestamp": 1730309200128,
     "user": {
      "displayName": "Ailton Júnior",
      "userId": "09535766044299314900"
     },
     "user_tz": 180
    },
    "id": "HC7OOIxtBQnq",
    "outputId": "9457b214-db48-446c-9158-18afdd0be191"
   },
   "outputs": [],
   "source": [
    "#Importar a findspark\n",
    "import findspark"
   ]
  },
  {
   "cell_type": "code",
   "execution_count": 3,
   "metadata": {},
   "outputs": [],
   "source": [
    "#Inicializar findspark\n",
    "findspark.init()"
   ]
  },
  {
   "cell_type": "code",
   "execution_count": 4,
   "metadata": {},
   "outputs": [],
   "source": [
    "#Importar SparkSession\n",
    "from pyspark.sql import SparkSession as Ss"
   ]
  },
  {
   "cell_type": "code",
   "execution_count": 5,
   "metadata": {},
   "outputs": [],
   "source": [
    "# Construir Session\n",
    "spark = Ss.builder\\\n",
    "    .master(\"local\")\\\n",
    "    .appName(\"CarrosClustering\")\\\n",
    "    .getOrCreate()\n",
    "#A SparkSession gerencia o SparkContext internamente não sendo necessário criar um SparkContext separadamente.\n",
    "#master(\"local\") - para facilitar depuração e a análise de resultados (O Spark será executado em um único nó)."
   ]
  },
  {
   "cell_type": "code",
   "execution_count": 6,
   "metadata": {},
   "outputs": [],
   "source": [
    "# Definir o nível de log durante a execução:\n",
    "spark.sparkContext.setLogLevel(\"ERROR\")\n",
    "#A melhor prática é definir o nível de log usando a configuração spark.log.level no arquivo spark-defaults.conf\n",
    "# ou através do comando spark-submit.\n",
    "# Isso garante que o nível de log seja aplicado a todo o aplicativo Spark."
   ]
  },
  {
   "cell_type": "markdown",
   "metadata": {},
   "source": [
    "# Carregar os dados"
   ]
  },
  {
   "cell_type": "code",
   "execution_count": 7,
   "metadata": {},
   "outputs": [],
   "source": [
    "carrosDF = spark.read.csv(\"dados/dataset.csv\", header=True, inferSchema=True, sep=\";\")\n",
    "#header = True, pois o arquivo possui cabeçalho\n",
    "#inferSchema - será inferido os tipos de dados em cada coluna"
   ]
  },
  {
   "cell_type": "code",
   "execution_count": 8,
   "metadata": {},
   "outputs": [
    {
     "name": "stdout",
     "output_type": "stream",
     "text": [
      "root\n",
      " |-- fabricante: string (nullable = true)\n",
      " |-- tipo_combustivel: string (nullable = true)\n",
      " |-- aspirado: string (nullable = true)\n",
      " |-- portas: string (nullable = true)\n",
      " |-- tipo: string (nullable = true)\n",
      " |-- direcao: string (nullable = true)\n",
      " |-- cilindros: string (nullable = true)\n",
      " |-- horsepower: integer (nullable = true)\n",
      " |-- rpm: integer (nullable = true)\n",
      " |-- consumo_cidade: integer (nullable = true)\n",
      " |-- consumo_estrada: integer (nullable = true)\n",
      " |-- preco: integer (nullable = true)\n",
      "\n"
     ]
    }
   ],
   "source": [
    "#Visualizar a Estrutura do DataFrame\n",
    "carrosDF.printSchema()"
   ]
  },
  {
   "cell_type": "markdown",
   "metadata": {},
   "source": [
    "- fabricante; tipo_combustivel; aspirado; portas; tipo; direcao; e  cilindros - São Strings\n",
    "- horsepower; rpm; consumo_cidade; consumo_estrada; e preco                   - São Integers."
   ]
  },
  {
   "cell_type": "code",
   "execution_count": 9,
   "metadata": {},
   "outputs": [
    {
     "name": "stdout",
     "output_type": "stream",
     "text": [
      "+----------+----------------+--------+------+---------+-------+---------+----------+----+--------------+---------------+-----+\n",
      "|fabricante|tipo_combustivel|aspirado|portas|     tipo|direcao|cilindros|horsepower| rpm|consumo_cidade|consumo_estrada|preco|\n",
      "+----------+----------------+--------+------+---------+-------+---------+----------+----+--------------+---------------+-----+\n",
      "|    subaru|             gas|     std|   two|hatchback|    fwd|     four|        69|4900|            31|             36| 5118|\n",
      "| chevrolet|             gas|     std|   two|hatchback|    fwd|    three|        48|5100|            47|             53| 5151|\n",
      "|     mazda|             gas|     std|   two|hatchback|    fwd|     four|        68|5000|            30|             31| 5195|\n",
      "|    toyota|             gas|     std|   two|hatchback|    fwd|     four|        62|4800|            35|             39| 5348|\n",
      "|mitsubishi|             gas|     std|   two|hatchback|    fwd|     four|        68|5500|            37|             41| 5389|\n",
      "+----------+----------------+--------+------+---------+-------+---------+----------+----+--------------+---------------+-----+\n",
      "only showing top 5 rows\n",
      "\n"
     ]
    }
   ],
   "source": [
    "#Visualizar tabela\n",
    "carrosDF.show(5)"
   ]
  },
  {
   "cell_type": "code",
   "execution_count": 10,
   "metadata": {},
   "outputs": [],
   "source": [
    "#Importar funções para analise dos dados\n",
    "from pyspark.sql.functions import count, col, asc, desc, when"
   ]
  },
  {
   "cell_type": "code",
   "execution_count": 11,
   "metadata": {},
   "outputs": [
    {
     "name": "stdout",
     "output_type": "stream",
     "text": [
      "+-------------+-----+\n",
      "|   fabricante|count|\n",
      "+-------------+-----+\n",
      "|       toyota|   32|\n",
      "|       nissan|   18|\n",
      "|        mazda|   16|\n",
      "|   mitsubishi|   13|\n",
      "|        honda|   13|\n",
      "|   volkswagen|   12|\n",
      "|       subaru|   12|\n",
      "|       peugot|   11|\n",
      "|        volvo|   11|\n",
      "|          bmw|    8|\n",
      "|        dodge|    8|\n",
      "|mercedes-benz|    8|\n",
      "|     plymouth|    7|\n",
      "|         saab|    6|\n",
      "|         audi|    6|\n",
      "|      porsche|    4|\n",
      "|       jaguar|    3|\n",
      "|  alfa-romero|    3|\n",
      "|    chevrolet|    3|\n",
      "|        isuzu|    2|\n",
      "+-------------+-----+\n",
      "only showing top 20 rows\n",
      "\n"
     ]
    }
   ],
   "source": [
    "#Quantos carros por Fabricantes \n",
    "fabCount = carrosDF.groupBy(\"fabricante\").count().orderBy(col(\"count\").desc())\n",
    "fabCount.show()"
   ]
  },
  {
   "cell_type": "code",
   "execution_count": 12,
   "metadata": {},
   "outputs": [],
   "source": [
    "# Selecionar Colunas Numéricas\n",
    "col_N = [col for col, dtype in carrosDF.dtypes if dtype in ('int', 'double','float')]\n",
    "col_N_carros = carrosDF.select(col_N)"
   ]
  },
  {
   "cell_type": "code",
   "execution_count": 13,
   "metadata": {},
   "outputs": [
    {
     "data": {
      "text/html": [
       "<div>\n",
       "<style scoped>\n",
       "    .dataframe tbody tr th:only-of-type {\n",
       "        vertical-align: middle;\n",
       "    }\n",
       "\n",
       "    .dataframe tbody tr th {\n",
       "        vertical-align: top;\n",
       "    }\n",
       "\n",
       "    .dataframe thead th {\n",
       "        text-align: right;\n",
       "    }\n",
       "</style>\n",
       "<table border=\"1\" class=\"dataframe\">\n",
       "  <thead>\n",
       "    <tr style=\"text-align: right;\">\n",
       "      <th></th>\n",
       "      <th>summary</th>\n",
       "      <th>horsepower</th>\n",
       "      <th>rpm</th>\n",
       "      <th>consumo_cidade</th>\n",
       "      <th>consumo_estrada</th>\n",
       "      <th>preco</th>\n",
       "    </tr>\n",
       "  </thead>\n",
       "  <tbody>\n",
       "    <tr>\n",
       "      <th>0</th>\n",
       "      <td>count</td>\n",
       "      <td>197</td>\n",
       "      <td>197</td>\n",
       "      <td>197</td>\n",
       "      <td>197</td>\n",
       "      <td>197</td>\n",
       "    </tr>\n",
       "    <tr>\n",
       "      <th>1</th>\n",
       "      <td>mean</td>\n",
       "      <td>103.60406091370558</td>\n",
       "      <td>5118.0203045685275</td>\n",
       "      <td>25.15228426395939</td>\n",
       "      <td>30.629441624365484</td>\n",
       "      <td>13279.644670050762</td>\n",
       "    </tr>\n",
       "    <tr>\n",
       "      <th>2</th>\n",
       "      <td>stddev</td>\n",
       "      <td>37.63920534951834</td>\n",
       "      <td>481.03591405011434</td>\n",
       "      <td>6.437862917085909</td>\n",
       "      <td>6.836258837310617</td>\n",
       "      <td>8010.334218462034</td>\n",
       "    </tr>\n",
       "    <tr>\n",
       "      <th>3</th>\n",
       "      <td>min</td>\n",
       "      <td>48</td>\n",
       "      <td>4150</td>\n",
       "      <td>13</td>\n",
       "      <td>16</td>\n",
       "      <td>5118</td>\n",
       "    </tr>\n",
       "    <tr>\n",
       "      <th>4</th>\n",
       "      <td>max</td>\n",
       "      <td>262</td>\n",
       "      <td>6600</td>\n",
       "      <td>49</td>\n",
       "      <td>54</td>\n",
       "      <td>45400</td>\n",
       "    </tr>\n",
       "  </tbody>\n",
       "</table>\n",
       "</div>"
      ],
      "text/plain": [
       "  summary          horsepower                 rpm     consumo_cidade  \\\n",
       "0   count                 197                 197                197   \n",
       "1    mean  103.60406091370558  5118.0203045685275  25.15228426395939   \n",
       "2  stddev   37.63920534951834  481.03591405011434  6.437862917085909   \n",
       "3     min                  48                4150                 13   \n",
       "4     max                 262                6600                 49   \n",
       "\n",
       "      consumo_estrada               preco  \n",
       "0                 197                 197  \n",
       "1  30.629441624365484  13279.644670050762  \n",
       "2   6.836258837310617   8010.334218462034  \n",
       "3                  16                5118  \n",
       "4                  54               45400  "
      ]
     },
     "execution_count": 13,
     "metadata": {},
     "output_type": "execute_result"
    }
   ],
   "source": [
    "#Gerar Estatística Descritivas e Converter para Pandas\n",
    "descricao = col_N_carros.describe().toPandas()\n",
    "descricao"
   ]
  },
  {
   "cell_type": "markdown",
   "metadata": {},
   "source": [
    "# Pré-processamento dos dados"
   ]
  },
  {
   "cell_type": "code",
   "execution_count": null,
   "metadata": {},
   "outputs": [],
   "source": [
    "#Iremos usar para o modelo\n",
    "##Portas            - Categórico\n",
    "##Tipo              - Categórico\n",
    "##Horsepower        - Numérico\n",
    "##Rpm               - Numérico\n",
    "##Concumo_cidade    - Numérico"
   ]
  },
  {
   "cell_type": "code",
   "execution_count": 14,
   "metadata": {},
   "outputs": [
    {
     "name": "stdout",
     "output_type": "stream",
     "text": [
      "+------+---------+----------+----+--------------+\n",
      "|portas|     tipo|horsepower| rpm|consumo_cidade|\n",
      "+------+---------+----------+----+--------------+\n",
      "|   two|hatchback|        69|4900|            31|\n",
      "|   two|hatchback|        48|5100|            47|\n",
      "|   two|hatchback|        68|5000|            30|\n",
      "|   two|hatchback|        62|4800|            35|\n",
      "|   two|hatchback|        68|5500|            37|\n",
      "+------+---------+----------+----+--------------+\n",
      "only showing top 5 rows\n",
      "\n"
     ]
    }
   ],
   "source": [
    "#Criando novo DF com apenas as colunas desejadas\n",
    "novoCarrosDF = carrosDF.select(\"portas\",\"tipo\",\"horsepower\",\"rpm\",\"consumo_cidade\")\n",
    "novoCarrosDF.show(5)"
   ]
  },
  {
   "cell_type": "code",
   "execution_count": 15,
   "metadata": {},
   "outputs": [
    {
     "name": "stdout",
     "output_type": "stream",
     "text": [
      "+------+---------+-----------+------+---------------+\n",
      "|portas|     tipo|horsepowerf|  rpmf|consumo_cidadef|\n",
      "+------+---------+-----------+------+---------------+\n",
      "|   two|hatchback|       69.0|4900.0|           31.0|\n",
      "|   two|hatchback|       48.0|5100.0|           47.0|\n",
      "|   two|hatchback|       68.0|5000.0|           30.0|\n",
      "|   two|hatchback|       62.0|4800.0|           35.0|\n",
      "|   two|hatchback|       68.0|5500.0|           37.0|\n",
      "|   two|hatchback|       60.0|5500.0|           38.0|\n",
      "|   two|    sedan|       69.0|5200.0|           31.0|\n",
      "|   two|hatchback|       68.0|5500.0|           37.0|\n",
      "|   two|hatchback|       68.0|5500.0|           37.0|\n",
      "|   two|hatchback|       68.0|5000.0|           31.0|\n",
      "|   two|hatchback|       68.0|5500.0|           31.0|\n",
      "|  four|hatchback|       68.0|5500.0|           31.0|\n",
      "|  four|hatchback|       68.0|5500.0|           31.0|\n",
      "|   two|hatchback|       70.0|5400.0|           38.0|\n",
      "|   two|hatchback|       62.0|4800.0|           31.0|\n",
      "|   two|hatchback|       68.0|5500.0|           31.0|\n",
      "|   two|hatchback|       58.0|4800.0|           49.0|\n",
      "|  four|hatchback|       62.0|4800.0|           31.0|\n",
      "|   two|hatchback|       76.0|6000.0|           30.0|\n",
      "|  four|    sedan|       70.0|5400.0|           38.0|\n",
      "+------+---------+-----------+------+---------------+\n",
      "only showing top 20 rows\n",
      "\n"
     ]
    }
   ],
   "source": [
    "#Transformando as colunas numéricas em float\n",
    "colunas2=[\"horsepower\", \"rpm\",\"consumo_cidade\"]\n",
    "CarrosDF2 = novoCarrosDF\n",
    "for col in colunas2:\n",
    "    CarrosDF2 = CarrosDF2.withColumn(col+\"f\",CarrosDF2[col].cast(\"float\")).drop(col)\n",
    "\n",
    "CarrosDF2.show()"
   ]
  },
  {
   "cell_type": "code",
   "execution_count": 16,
   "metadata": {},
   "outputs": [
    {
     "data": {
      "text/html": [
       "<div>\n",
       "<style scoped>\n",
       "    .dataframe tbody tr th:only-of-type {\n",
       "        vertical-align: middle;\n",
       "    }\n",
       "\n",
       "    .dataframe tbody tr th {\n",
       "        vertical-align: top;\n",
       "    }\n",
       "\n",
       "    .dataframe thead th {\n",
       "        text-align: right;\n",
       "    }\n",
       "</style>\n",
       "<table border=\"1\" class=\"dataframe\">\n",
       "  <thead>\n",
       "    <tr style=\"text-align: right;\">\n",
       "      <th></th>\n",
       "      <th>portas</th>\n",
       "      <th>count</th>\n",
       "    </tr>\n",
       "  </thead>\n",
       "  <tbody>\n",
       "    <tr>\n",
       "      <th>0</th>\n",
       "      <td>two</td>\n",
       "      <td>85</td>\n",
       "    </tr>\n",
       "    <tr>\n",
       "      <th>1</th>\n",
       "      <td>four</td>\n",
       "      <td>112</td>\n",
       "    </tr>\n",
       "  </tbody>\n",
       "</table>\n",
       "</div>"
      ],
      "text/plain": [
       "  portas  count\n",
       "0    two     85\n",
       "1   four    112"
      ]
     },
     "execution_count": 16,
     "metadata": {},
     "output_type": "execute_result"
    }
   ],
   "source": [
    "#Identificar Valores únicos em portas\n",
    "portasDf = novoCarrosDF.groupBy(\"portas\").count().toPandas()\n",
    "portasDf.head()"
   ]
  },
  {
   "cell_type": "code",
   "execution_count": 17,
   "metadata": {},
   "outputs": [
    {
     "data": {
      "text/html": [
       "<div>\n",
       "<style scoped>\n",
       "    .dataframe tbody tr th:only-of-type {\n",
       "        vertical-align: middle;\n",
       "    }\n",
       "\n",
       "    .dataframe tbody tr th {\n",
       "        vertical-align: top;\n",
       "    }\n",
       "\n",
       "    .dataframe thead th {\n",
       "        text-align: right;\n",
       "    }\n",
       "</style>\n",
       "<table border=\"1\" class=\"dataframe\">\n",
       "  <thead>\n",
       "    <tr style=\"text-align: right;\">\n",
       "      <th></th>\n",
       "      <th>tipo</th>\n",
       "      <th>count</th>\n",
       "    </tr>\n",
       "  </thead>\n",
       "  <tbody>\n",
       "    <tr>\n",
       "      <th>0</th>\n",
       "      <td>wagon</td>\n",
       "      <td>24</td>\n",
       "    </tr>\n",
       "    <tr>\n",
       "      <th>1</th>\n",
       "      <td>convertible</td>\n",
       "      <td>6</td>\n",
       "    </tr>\n",
       "    <tr>\n",
       "      <th>2</th>\n",
       "      <td>sedan</td>\n",
       "      <td>92</td>\n",
       "    </tr>\n",
       "    <tr>\n",
       "      <th>3</th>\n",
       "      <td>hatchback</td>\n",
       "      <td>67</td>\n",
       "    </tr>\n",
       "    <tr>\n",
       "      <th>4</th>\n",
       "      <td>hardtop</td>\n",
       "      <td>8</td>\n",
       "    </tr>\n",
       "  </tbody>\n",
       "</table>\n",
       "</div>"
      ],
      "text/plain": [
       "          tipo  count\n",
       "0        wagon     24\n",
       "1  convertible      6\n",
       "2        sedan     92\n",
       "3    hatchback     67\n",
       "4      hardtop      8"
      ]
     },
     "execution_count": 17,
     "metadata": {},
     "output_type": "execute_result"
    }
   ],
   "source": [
    "#Identificar Valores únicos em tipo\n",
    "tipoDf = novoCarrosDF.groupBy(\"tipo\").count().toPandas()\n",
    "tipoDf.head()"
   ]
  },
  {
   "cell_type": "markdown",
   "metadata": {},
   "source": [
    "------"
   ]
  },
  {
   "cell_type": "code",
   "execution_count": 18,
   "metadata": {},
   "outputs": [],
   "source": [
    "#portas = [item for item in portasDf[\"portas\"]]\n",
    "#tipos = [tipo for tipo in tipoDf[\"tipo\"]]# Realidade\n",
    "portas=[\"two\"]\n",
    "tipos= [\"sedan\"]\n",
    "#print(portas)\n",
    "#print(tipos)"
   ]
  },
  {
   "cell_type": "code",
   "execution_count": 19,
   "metadata": {},
   "outputs": [],
   "source": [
    "#Tranformando dados categóricos em númericos\n",
    "def transform (coluna,Df,List):\n",
    "\n",
    "    for item in List:\n",
    "        i = List.index(item) + 1\n",
    "        Df = Df.withColumn(coluna, when(Df[coluna] == item, float(i) ).otherwise(2.0))\n",
    "        \n",
    "    return Df"
   ]
  },
  {
   "cell_type": "code",
   "execution_count": 20,
   "metadata": {},
   "outputs": [
    {
     "name": "stdout",
     "output_type": "stream",
     "text": [
      "+------+----+-----------+------+---------------+\n",
      "|portas|tipo|horsepowerf|  rpmf|consumo_cidadef|\n",
      "+------+----+-----------+------+---------------+\n",
      "|   1.0| 2.0|       69.0|4900.0|           31.0|\n",
      "|   1.0| 2.0|       48.0|5100.0|           47.0|\n",
      "|   1.0| 2.0|       68.0|5000.0|           30.0|\n",
      "+------+----+-----------+------+---------------+\n",
      "only showing top 3 rows\n",
      "\n"
     ]
    }
   ],
   "source": [
    "#Percorrer entre colunas e listas de valores unicos\n",
    "Colunas = [\"portas\",\"tipo\"]\n",
    "Listas = [portas,tipos]\n",
    "for i in range(0,len(Colunas)):\n",
    "    CarrosDF2 = transform(Colunas[i],CarrosDF2,Listas[i])\n",
    "\n",
    "CarrosDF2.show(n=3)"
   ]
  },
  {
   "cell_type": "code",
   "execution_count": 21,
   "metadata": {},
   "outputs": [
    {
     "data": {
      "text/html": [
       "<div>\n",
       "<style scoped>\n",
       "    .dataframe tbody tr th:only-of-type {\n",
       "        vertical-align: middle;\n",
       "    }\n",
       "\n",
       "    .dataframe tbody tr th {\n",
       "        vertical-align: top;\n",
       "    }\n",
       "\n",
       "    .dataframe thead th {\n",
       "        text-align: right;\n",
       "    }\n",
       "</style>\n",
       "<table border=\"1\" class=\"dataframe\">\n",
       "  <thead>\n",
       "    <tr style=\"text-align: right;\">\n",
       "      <th></th>\n",
       "      <th>summary</th>\n",
       "      <th>portas</th>\n",
       "      <th>tipo</th>\n",
       "      <th>horsepowerf</th>\n",
       "      <th>rpmf</th>\n",
       "      <th>consumo_cidadef</th>\n",
       "    </tr>\n",
       "  </thead>\n",
       "  <tbody>\n",
       "    <tr>\n",
       "      <th>0</th>\n",
       "      <td>count</td>\n",
       "      <td>197</td>\n",
       "      <td>197</td>\n",
       "      <td>197</td>\n",
       "      <td>197</td>\n",
       "      <td>197</td>\n",
       "    </tr>\n",
       "    <tr>\n",
       "      <th>1</th>\n",
       "      <td>mean</td>\n",
       "      <td>1.5685279187817258</td>\n",
       "      <td>1.532994923857868</td>\n",
       "      <td>103.60406091370558</td>\n",
       "      <td>5118.0203045685275</td>\n",
       "      <td>25.15228426395939</td>\n",
       "    </tr>\n",
       "    <tr>\n",
       "      <th>2</th>\n",
       "      <td>stddev</td>\n",
       "      <td>0.49654352778167493</td>\n",
       "      <td>0.5001812579359883</td>\n",
       "      <td>37.63920534951834</td>\n",
       "      <td>481.03591405011434</td>\n",
       "      <td>6.437862917085909</td>\n",
       "    </tr>\n",
       "    <tr>\n",
       "      <th>3</th>\n",
       "      <td>min</td>\n",
       "      <td>1.0</td>\n",
       "      <td>1.0</td>\n",
       "      <td>48.0</td>\n",
       "      <td>4150.0</td>\n",
       "      <td>13.0</td>\n",
       "    </tr>\n",
       "    <tr>\n",
       "      <th>4</th>\n",
       "      <td>max</td>\n",
       "      <td>2.0</td>\n",
       "      <td>2.0</td>\n",
       "      <td>262.0</td>\n",
       "      <td>6600.0</td>\n",
       "      <td>49.0</td>\n",
       "    </tr>\n",
       "  </tbody>\n",
       "</table>\n",
       "</div>"
      ],
      "text/plain": [
       "  summary               portas                tipo         horsepowerf  \\\n",
       "0   count                  197                 197                 197   \n",
       "1    mean   1.5685279187817258   1.532994923857868  103.60406091370558   \n",
       "2  stddev  0.49654352778167493  0.5001812579359883   37.63920534951834   \n",
       "3     min                  1.0                 1.0                48.0   \n",
       "4     max                  2.0                 2.0               262.0   \n",
       "\n",
       "                 rpmf    consumo_cidadef  \n",
       "0                 197                197  \n",
       "1  5118.0203045685275  25.15228426395939  \n",
       "2  481.03591405011434  6.437862917085909  \n",
       "3              4150.0               13.0  \n",
       "4              6600.0               49.0  "
      ]
     },
     "execution_count": 21,
     "metadata": {},
     "output_type": "execute_result"
    }
   ],
   "source": [
    "#Gerar Estatística Descritivas e Converter para Pandas\n",
    "descricaoNova = CarrosDF2.describe().toPandas()\n",
    "descricaoNova"
   ]
  },
  {
   "cell_type": "code",
   "execution_count": 22,
   "metadata": {},
   "outputs": [],
   "source": [
    "#Extraindo a média e o desvio padrão\n",
    "medias = descricaoNova.iloc[1,1:6].values.tolist()\n",
    "desvios = descricaoNova.iloc[2,1:6].values.tolist()"
   ]
  },
  {
   "cell_type": "markdown",
   "metadata": {},
   "source": [
    "# Sumarizando os dados"
   ]
  },
  {
   "cell_type": "code",
   "execution_count": 23,
   "metadata": {},
   "outputs": [],
   "source": [
    "# Acesse o SparkContext a partir da sessão Spark\n",
    "sc = spark.sparkContext"
   ]
  },
  {
   "cell_type": "code",
   "execution_count": 24,
   "metadata": {},
   "outputs": [],
   "source": [
    "# Colocando a média e o desvio padrão disponível em todo cluster\n",
    "bc_media = sc.broadcast(medias)\n",
    "bc_desvio = sc.broadcast(desvios)"
   ]
  },
  {
   "cell_type": "code",
   "execution_count": 25,
   "metadata": {},
   "outputs": [],
   "source": [
    "#Importar módulo para criar vetores densos e esparsos\n",
    "from pyspark.ml.linalg import Vectors"
   ]
  },
  {
   "cell_type": "code",
   "execution_count": 26,
   "metadata": {},
   "outputs": [],
   "source": [
    "#Importando classe Row para criar objetos de linha - Linhas com campos nomeados\n",
    "from pyspark.sql import Row"
   ]
  },
  {
   "cell_type": "code",
   "execution_count": 27,
   "metadata": {},
   "outputs": [],
   "source": [
    "#Função para Normalizar os valores de Entrada e criar os vetores densos\n",
    "def centerAndScale(inRow):\n",
    "  #Variáveis Globais\n",
    "  global bc_media\n",
    "  global bc_desvio\n",
    "  #Array de médias e desvios\n",
    "  meanArray = bc_media.value\n",
    "  stdArray = bc_desvio.value\n",
    "  #Array para o resultados\n",
    "  retArray= []\n",
    "  #Loop para calculo\n",
    "  for i in range(len(meanArray)):\n",
    "    retArray.append((float(inRow[i])-float(meanArray[i]))/float(stdArray[i]))\n",
    "  return Row(features = Vectors.dense(retArray)) #Retorna um campo com os vetores densos"
   ]
  },
  {
   "cell_type": "markdown",
   "metadata": {},
   "source": [
    "# Criando Estrutura de dados distribuida"
   ]
  },
  {
   "cell_type": "code",
   "execution_count": 28,
   "metadata": {},
   "outputs": [],
   "source": [
    "#Criando um RDD\n",
    "carrosRDD = CarrosDF2.rdd.map(centerAndScale)"
   ]
  },
  {
   "cell_type": "code",
   "execution_count": 29,
   "metadata": {},
   "outputs": [
    {
     "name": "stdout",
     "output_type": "stream",
     "text": [
      "+--------------------+\n",
      "|            features|\n",
      "+--------------------+\n",
      "|[-1.1449709581789...|\n",
      "|[-1.1449709581789...|\n",
      "|[-1.1449709581789...|\n",
      "|[-1.1449709581789...|\n",
      "|[-1.1449709581789...|\n",
      "|[-1.1449709581789...|\n",
      "|[-1.1449709581789...|\n",
      "|[-1.1449709581789...|\n",
      "|[-1.1449709581789...|\n",
      "|[-1.1449709581789...|\n",
      "|[-1.1449709581789...|\n",
      "|[0.86895117361793...|\n",
      "|[0.86895117361793...|\n",
      "|[-1.1449709581789...|\n",
      "|[-1.1449709581789...|\n",
      "+--------------------+\n",
      "only showing top 15 rows\n",
      "\n"
     ]
    }
   ],
   "source": [
    "#Criar novo DataFrame\n",
    "carrosDfNormalizado = spark.createDataFrame(carrosRDD)\n",
    "carrosDfNormalizado.select(\"features\").show(15)"
   ]
  },
  {
   "cell_type": "markdown",
   "metadata": {
    "id": "wANsTBgyLXAb"
   },
   "source": [
    "# Clusterização"
   ]
  },
  {
   "cell_type": "code",
   "execution_count": 30,
   "metadata": {},
   "outputs": [],
   "source": [
    "#Importando classe KMeans para clusterização K-means\n",
    "from pyspark.ml.clustering import KMeans"
   ]
  },
  {
   "cell_type": "code",
   "execution_count": 31,
   "metadata": {},
   "outputs": [],
   "source": [
    "#Importando a classe ClusteringEvaluator para avaliar a qualidade dos clusters\n",
    "from pyspark.ml.evaluation import ClusteringEvaluator"
   ]
  },
  {
   "cell_type": "code",
   "execution_count": 32,
   "metadata": {},
   "outputs": [],
   "source": [
    "#Avaliar Clustering\n",
    "avaliador = ClusteringEvaluator()"
   ]
  },
  {
   "cell_type": "code",
   "execution_count": 33,
   "metadata": {},
   "outputs": [],
   "source": [
    "#Testar numeros diferentes de clusters\n",
    "#Será usado o método Silhueta que mede a coesão e a separação dos clusters\n",
    "#Objetivo: Encontrar k que Máximize a pontuação da silhueta\n",
    "resultados = {}\n",
    "for k in range(2,6):\n",
    "    kmeans = KMeans(k=k,seed=1)\n",
    "    model = kmeans.fit(carrosDfNormalizado)\n",
    "    predictions = model.transform(carrosDfNormalizado)\n",
    "    silhouette = avaliador.evaluate(predictions)\n",
    "    resultados[k]=silhouette\n"
   ]
  },
  {
   "cell_type": "code",
   "execution_count": 34,
   "metadata": {},
   "outputs": [
    {
     "name": "stdout",
     "output_type": "stream",
     "text": [
      "Para k=2, silhueta é 0.429177856807308\n"
     ]
    }
   ],
   "source": [
    "#Resultado\n",
    "print(f\"Para k={max(resultados,key=resultados.get)}, silhueta é {resultados[max(resultados,key=resultados.get)]}\")"
   ]
  },
  {
   "cell_type": "code",
   "execution_count": 35,
   "metadata": {
    "id": "hx6P3Cf1LbfG"
   },
   "outputs": [],
   "source": [
    "#Criando o modelo\n",
    "kmeans = KMeans(k=3, seed=1)"
   ]
  },
  {
   "cell_type": "code",
   "execution_count": 36,
   "metadata": {
    "id": "55ORg2MNLhfM"
   },
   "outputs": [],
   "source": [
    "#Treina o modelo\n",
    "modelo = kmeans.fit(carrosDfNormalizado)"
   ]
  },
  {
   "cell_type": "code",
   "execution_count": 37,
   "metadata": {
    "id": "V08NSzgsLqDI"
   },
   "outputs": [
    {
     "name": "stdout",
     "output_type": "stream",
     "text": [
      "+--------------------+----------+\n",
      "|            features|prediction|\n",
      "+--------------------+----------+\n",
      "|[-1.1449709581789...|         0|\n",
      "|[-1.1449709581789...|         0|\n",
      "|[-1.1449709581789...|         0|\n",
      "|[-1.1449709581789...|         0|\n",
      "|[-1.1449709581789...|         0|\n",
      "|[-1.1449709581789...|         0|\n",
      "|[-1.1449709581789...|         0|\n",
      "|[-1.1449709581789...|         0|\n",
      "|[-1.1449709581789...|         0|\n",
      "|[-1.1449709581789...|         0|\n",
      "|[-1.1449709581789...|         0|\n",
      "|[0.86895117361793...|         0|\n",
      "|[0.86895117361793...|         0|\n",
      "|[-1.1449709581789...|         0|\n",
      "|[-1.1449709581789...|         0|\n",
      "|[-1.1449709581789...|         0|\n",
      "|[-1.1449709581789...|         0|\n",
      "|[0.86895117361793...|         0|\n",
      "|[-1.1449709581789...|         0|\n",
      "|[0.86895117361793...|         0|\n",
      "+--------------------+----------+\n",
      "only showing top 20 rows\n",
      "\n"
     ]
    }
   ],
   "source": [
    "#Previsões\n",
    "previsoes = modelo.transform(carrosDfNormalizado)\n",
    "previsoes.show()"
   ]
  },
  {
   "cell_type": "code",
   "execution_count": 38,
   "metadata": {},
   "outputs": [],
   "source": [
    "#Importar a biblioteca pandas\n",
    "import pandas as pd"
   ]
  },
  {
   "cell_type": "code",
   "execution_count": 39,
   "metadata": {
    "id": "648EujxRL27-"
   },
   "outputs": [],
   "source": [
    "#Extrair as 5 caracteristicas das previsões (portas...)\n",
    "def unstripData(instr):\n",
    "  return (instr[\"prediction\"],\n",
    "          instr[\"features\"][0],\n",
    "          instr[\"features\"][1],\n",
    "          instr[\"features\"][2],\n",
    "          instr[\"features\"][3],\n",
    "          instr[\"features\"][4],)"
   ]
  },
  {
   "cell_type": "code",
   "execution_count": 40,
   "metadata": {},
   "outputs": [],
   "source": [
    "#Aplicar a função nas previsões\n",
    "carrosRDD2 = previsoes.rdd.map(unstripData)\n",
    "predList = carrosRDD2.collect()"
   ]
  },
  {
   "cell_type": "code",
   "execution_count": 41,
   "metadata": {},
   "outputs": [
    {
     "data": {
      "text/html": [
       "<div>\n",
       "<style scoped>\n",
       "    .dataframe tbody tr th:only-of-type {\n",
       "        vertical-align: middle;\n",
       "    }\n",
       "\n",
       "    .dataframe tbody tr th {\n",
       "        vertical-align: top;\n",
       "    }\n",
       "\n",
       "    .dataframe thead th {\n",
       "        text-align: right;\n",
       "    }\n",
       "</style>\n",
       "<table border=\"1\" class=\"dataframe\">\n",
       "  <thead>\n",
       "    <tr style=\"text-align: right;\">\n",
       "      <th></th>\n",
       "      <th>0</th>\n",
       "      <th>1</th>\n",
       "      <th>2</th>\n",
       "      <th>3</th>\n",
       "      <th>4</th>\n",
       "      <th>5</th>\n",
       "    </tr>\n",
       "  </thead>\n",
       "  <tbody>\n",
       "    <tr>\n",
       "      <th>0</th>\n",
       "      <td>0</td>\n",
       "      <td>-1.144971</td>\n",
       "      <td>0.933672</td>\n",
       "      <td>-0.919362</td>\n",
       "      <td>-0.453231</td>\n",
       "      <td>0.908332</td>\n",
       "    </tr>\n",
       "    <tr>\n",
       "      <th>1</th>\n",
       "      <td>0</td>\n",
       "      <td>-1.144971</td>\n",
       "      <td>0.933672</td>\n",
       "      <td>-1.477291</td>\n",
       "      <td>-0.037461</td>\n",
       "      <td>3.393629</td>\n",
       "    </tr>\n",
       "    <tr>\n",
       "      <th>2</th>\n",
       "      <td>0</td>\n",
       "      <td>-1.144971</td>\n",
       "      <td>0.933672</td>\n",
       "      <td>-0.945930</td>\n",
       "      <td>-0.245346</td>\n",
       "      <td>0.753001</td>\n",
       "    </tr>\n",
       "    <tr>\n",
       "      <th>3</th>\n",
       "      <td>0</td>\n",
       "      <td>-1.144971</td>\n",
       "      <td>0.933672</td>\n",
       "      <td>-1.105338</td>\n",
       "      <td>-0.661116</td>\n",
       "      <td>1.529656</td>\n",
       "    </tr>\n",
       "    <tr>\n",
       "      <th>4</th>\n",
       "      <td>0</td>\n",
       "      <td>-1.144971</td>\n",
       "      <td>0.933672</td>\n",
       "      <td>-0.945930</td>\n",
       "      <td>0.794077</td>\n",
       "      <td>1.840318</td>\n",
       "    </tr>\n",
       "    <tr>\n",
       "      <th>5</th>\n",
       "      <td>0</td>\n",
       "      <td>-1.144971</td>\n",
       "      <td>0.933672</td>\n",
       "      <td>-1.158475</td>\n",
       "      <td>0.794077</td>\n",
       "      <td>1.995649</td>\n",
       "    </tr>\n",
       "    <tr>\n",
       "      <th>6</th>\n",
       "      <td>0</td>\n",
       "      <td>-1.144971</td>\n",
       "      <td>-1.065604</td>\n",
       "      <td>-0.919362</td>\n",
       "      <td>0.170423</td>\n",
       "      <td>0.908332</td>\n",
       "    </tr>\n",
       "    <tr>\n",
       "      <th>7</th>\n",
       "      <td>0</td>\n",
       "      <td>-1.144971</td>\n",
       "      <td>0.933672</td>\n",
       "      <td>-0.945930</td>\n",
       "      <td>0.794077</td>\n",
       "      <td>1.840318</td>\n",
       "    </tr>\n",
       "    <tr>\n",
       "      <th>8</th>\n",
       "      <td>0</td>\n",
       "      <td>-1.144971</td>\n",
       "      <td>0.933672</td>\n",
       "      <td>-0.945930</td>\n",
       "      <td>0.794077</td>\n",
       "      <td>1.840318</td>\n",
       "    </tr>\n",
       "    <tr>\n",
       "      <th>9</th>\n",
       "      <td>0</td>\n",
       "      <td>-1.144971</td>\n",
       "      <td>0.933672</td>\n",
       "      <td>-0.945930</td>\n",
       "      <td>-0.245346</td>\n",
       "      <td>0.908332</td>\n",
       "    </tr>\n",
       "    <tr>\n",
       "      <th>10</th>\n",
       "      <td>0</td>\n",
       "      <td>-1.144971</td>\n",
       "      <td>0.933672</td>\n",
       "      <td>-0.945930</td>\n",
       "      <td>0.794077</td>\n",
       "      <td>0.908332</td>\n",
       "    </tr>\n",
       "    <tr>\n",
       "      <th>11</th>\n",
       "      <td>0</td>\n",
       "      <td>0.868951</td>\n",
       "      <td>0.933672</td>\n",
       "      <td>-0.945930</td>\n",
       "      <td>0.794077</td>\n",
       "      <td>0.908332</td>\n",
       "    </tr>\n",
       "    <tr>\n",
       "      <th>12</th>\n",
       "      <td>0</td>\n",
       "      <td>0.868951</td>\n",
       "      <td>0.933672</td>\n",
       "      <td>-0.945930</td>\n",
       "      <td>0.794077</td>\n",
       "      <td>0.908332</td>\n",
       "    </tr>\n",
       "    <tr>\n",
       "      <th>13</th>\n",
       "      <td>0</td>\n",
       "      <td>-1.144971</td>\n",
       "      <td>0.933672</td>\n",
       "      <td>-0.892794</td>\n",
       "      <td>0.586193</td>\n",
       "      <td>1.995649</td>\n",
       "    </tr>\n",
       "    <tr>\n",
       "      <th>14</th>\n",
       "      <td>0</td>\n",
       "      <td>-1.144971</td>\n",
       "      <td>0.933672</td>\n",
       "      <td>-1.105338</td>\n",
       "      <td>-0.661116</td>\n",
       "      <td>0.908332</td>\n",
       "    </tr>\n",
       "    <tr>\n",
       "      <th>15</th>\n",
       "      <td>0</td>\n",
       "      <td>-1.144971</td>\n",
       "      <td>0.933672</td>\n",
       "      <td>-0.945930</td>\n",
       "      <td>0.794077</td>\n",
       "      <td>0.908332</td>\n",
       "    </tr>\n",
       "    <tr>\n",
       "      <th>16</th>\n",
       "      <td>0</td>\n",
       "      <td>-1.144971</td>\n",
       "      <td>0.933672</td>\n",
       "      <td>-1.211611</td>\n",
       "      <td>-0.661116</td>\n",
       "      <td>3.704291</td>\n",
       "    </tr>\n",
       "    <tr>\n",
       "      <th>17</th>\n",
       "      <td>0</td>\n",
       "      <td>0.868951</td>\n",
       "      <td>0.933672</td>\n",
       "      <td>-1.105338</td>\n",
       "      <td>-0.661116</td>\n",
       "      <td>0.908332</td>\n",
       "    </tr>\n",
       "    <tr>\n",
       "      <th>18</th>\n",
       "      <td>0</td>\n",
       "      <td>-1.144971</td>\n",
       "      <td>0.933672</td>\n",
       "      <td>-0.733386</td>\n",
       "      <td>1.833501</td>\n",
       "      <td>0.753001</td>\n",
       "    </tr>\n",
       "    <tr>\n",
       "      <th>19</th>\n",
       "      <td>0</td>\n",
       "      <td>0.868951</td>\n",
       "      <td>-1.065604</td>\n",
       "      <td>-0.892794</td>\n",
       "      <td>0.586193</td>\n",
       "      <td>1.995649</td>\n",
       "    </tr>\n",
       "  </tbody>\n",
       "</table>\n",
       "</div>"
      ],
      "text/plain": [
       "    0         1         2         3         4         5\n",
       "0   0 -1.144971  0.933672 -0.919362 -0.453231  0.908332\n",
       "1   0 -1.144971  0.933672 -1.477291 -0.037461  3.393629\n",
       "2   0 -1.144971  0.933672 -0.945930 -0.245346  0.753001\n",
       "3   0 -1.144971  0.933672 -1.105338 -0.661116  1.529656\n",
       "4   0 -1.144971  0.933672 -0.945930  0.794077  1.840318\n",
       "5   0 -1.144971  0.933672 -1.158475  0.794077  1.995649\n",
       "6   0 -1.144971 -1.065604 -0.919362  0.170423  0.908332\n",
       "7   0 -1.144971  0.933672 -0.945930  0.794077  1.840318\n",
       "8   0 -1.144971  0.933672 -0.945930  0.794077  1.840318\n",
       "9   0 -1.144971  0.933672 -0.945930 -0.245346  0.908332\n",
       "10  0 -1.144971  0.933672 -0.945930  0.794077  0.908332\n",
       "11  0  0.868951  0.933672 -0.945930  0.794077  0.908332\n",
       "12  0  0.868951  0.933672 -0.945930  0.794077  0.908332\n",
       "13  0 -1.144971  0.933672 -0.892794  0.586193  1.995649\n",
       "14  0 -1.144971  0.933672 -1.105338 -0.661116  0.908332\n",
       "15  0 -1.144971  0.933672 -0.945930  0.794077  0.908332\n",
       "16  0 -1.144971  0.933672 -1.211611 -0.661116  3.704291\n",
       "17  0  0.868951  0.933672 -1.105338 -0.661116  0.908332\n",
       "18  0 -1.144971  0.933672 -0.733386  1.833501  0.753001\n",
       "19  0  0.868951 -1.065604 -0.892794  0.586193  1.995649"
      ]
     },
     "execution_count": 41,
     "metadata": {},
     "output_type": "execute_result"
    }
   ],
   "source": [
    "#Converter em DataFrame\n",
    "predPd = pd.DataFrame(predList)\n",
    "predPd.head(20)"
   ]
  },
  {
   "cell_type": "markdown",
   "metadata": {},
   "source": [
    "# Visualização (utilizando o Pandas)"
   ]
  },
  {
   "cell_type": "code",
   "execution_count": 42,
   "metadata": {},
   "outputs": [],
   "source": [
    "#Importando o módulo matplotlib.pylab para criação de gráficos\n",
    "import matplotlib.pylab as plt"
   ]
  },
  {
   "cell_type": "code",
   "execution_count": 43,
   "metadata": {
    "id": "EhISIYCqOUqK"
   },
   "outputs": [
    {
     "data": {
      "text/plain": [
       "<matplotlib.collections.PathCollection at 0x27c41c1b410>"
      ]
     },
     "execution_count": 43,
     "metadata": {},
     "output_type": "execute_result"
    },
    {
     "data": {
      "image/png": "[encoded data removed]",
      "text/plain": [
       "<Figure size 640x480 with 1 Axes>"
      ]
     },
     "metadata": {},
     "output_type": "display_data"
    }
   ],
   "source": [
    "#Resultado das cluscters criadas\n",
    "plt.cla()\n",
    "plt.scatter(predPd[3],predPd[4],c=predPd[0])"
   ]
  },
  {
   "cell_type": "markdown",
   "metadata": {
    "id": "m7s7sbsoOnA6"
   },
   "source": [
    "FIM"
   ]
  }
 ],
 "metadata": {
  "colab": {
   "authorship_tag": "ABX9TyND9/uzY/ARFDBhFe+pjRJH",
   "provenance": []
  },
  "kernelspec": {
   "display_name": "Python 3",
   "name": "python3"
  },
  "language_info": {
   "codemirror_mode": {
    "name": "ipython",
    "version": 3
   },
   "file_extension": ".py",
   "mimetype": "text/x-python",
   "name": "python",
   "nbconvert_exporter": "python",
   "pygments_lexer": "ipython3",
   "version": "3.11.9"
  }
 },
 "nbformat": 4,
 "nbformat_minor": 0
}
